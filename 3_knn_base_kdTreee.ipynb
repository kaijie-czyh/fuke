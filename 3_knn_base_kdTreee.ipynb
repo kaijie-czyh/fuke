{
 "cells": [
  {
   "cell_type": "markdown",
   "metadata": {},
   "source": [
    "<img src=\"image/3/kd_tree_image.png\" alt=\"alt text\" style=\"width: 30%; height: auto;\">\n"
   ]
  },
  {
   "cell_type": "code",
   "execution_count": 5,
   "metadata": {},
   "outputs": [],
   "source": [
    "import math\n",
    "# kd-tree每个结点中主要包含的数据结构如下\n",
    "class KdNode(object):\n",
    "    def __init__(self, dom_elt, split,parent, left, right):\n",
    "        self.dom_elt = dom_elt  # k维向量节点(k维空间中的一个样本点)\n",
    "        self.split = split  # 整数（进行分割维度的序号）\n",
    "        self.parent = parent  # 父节点\n",
    "        self.left = left  # 该结点分割超平面左子空间构成的kd-tree\n",
    "        self.right = right  # 该结点分割超平面右子空间构成的kd-tree\n",
    "\n",
    "\n",
    "class KdTree(object):\n",
    "    def __init__(self, data):\n",
    "        if not data:\n",
    "            return None\n",
    "        k = len(data[0])  # 数据维度\n",
    "\n",
    "        def CreateNode(parent_node,split, data_set):  # 按第split维划分数据集exset创建KdNode\n",
    "            if not data_set:  # 数据集为空\n",
    "                return None\n",
    "            # key参数的值为一个函数，此函数只有一个参数且返回一个值用来进行比较\n",
    "            # operator模块提供的itemgetter函数用于获取对象的哪些维的数据，参数为需要获取的数据在对象中的序号\n",
    "            #data_set.sort(key=itemgetter(split)) # 按要进行分割的那一维数据排序\n",
    "            data_set.sort(key=lambda x: x[split])\n",
    "            split_pos = len(data_set) // 2  # //为Python中的整数除法\n",
    "            median = data_set[split_pos]  # 中位数分割点\n",
    "            split_next = (split + 1) % k  # cycle coordinates\n",
    "\n",
    "            # 递归的创建kd树\n",
    "            now_node = KdNode(\n",
    "                median,\n",
    "                split,\n",
    "                parent_node,\n",
    "                None,\n",
    "                None\n",
    "            )  # 创建当前节点\n",
    "            now_node.left = CreateNode(now_node, split_next, data_set[:split_pos])  # 创建左子树\n",
    "            now_node.right = CreateNode(now_node, split_next, data_set[split_pos + 1:])  # 创建右子树\n",
    "            return now_node\n",
    "            \n",
    "        self.root = CreateNode(None,0, data)  # 从第0维分量开始构建kd树,返回根节点\n",
    "\n",
    "\n",
    "        \n",
    "     \n",
    "\n",
    "\n",
    "# KDTree的前序遍历\n",
    "def preorder(root):\n",
    "    print(root.dom_elt,root.split)\n",
    "    if root.left:  # 节点不为空\n",
    "        preorder(root.left)\n",
    "    if root.right:\n",
    "        preorder(root.right)\n",
    " "
   ]
  },
  {
   "cell_type": "code",
   "execution_count": 7,
   "metadata": {},
   "outputs": [
    {
     "name": "stdout",
     "output_type": "stream",
     "text": [
      "[6, 6, 6] 0\n",
      "[3, 3, 3] 1\n",
      "[2, 2, 2] 2\n",
      "[1, 1, 1] 0\n",
      "[5, 5, 5] 2\n",
      "[4, 4, 4] 0\n",
      "[9, 9, 9] 1\n",
      "[8, 8, 8] 2\n",
      "[7, 7, 7] 0\n",
      "[10, 10, 10] 2\n"
     ]
    }
   ],
   "source": [
    "data = [[1,1,1],[2,2,2],[3,3,3],[4,4,4],[5,5,5],[6,6,6],[7,7,7],[8,8,8],[9,9,9],[10,10,10]]\n",
    "kd = KdTree(data)\n",
    "preorder(kd.root)"
   ]
  },
  {
   "cell_type": "code",
   "execution_count": 8,
   "metadata": {},
   "outputs": [
    {
     "name": "stdout",
     "output_type": "stream",
     "text": [
      "[6, 6, 6]\n"
     ]
    }
   ],
   "source": [
    "print(kd.root.left.parent.dom_elt)"
   ]
  },
  {
   "cell_type": "markdown",
   "metadata": {},
   "source": [
    "<img src=\"image/3/search_kd_tree_image.png\" alt=\"alt text\" style=\"width: 30%; height: auto;\">"
   ]
  },
  {
   "cell_type": "code",
   "execution_count": 36,
   "metadata": {},
   "outputs": [],
   "source": [
    "class Searcher:\n",
    "    def __init__(self,new_point,kd_tree):\n",
    "        self.new_point = new_point\n",
    "        self.kd_tree = kd_tree\n",
    "        self.nearest_point = None\n",
    "        self.nearest_distance = float(\"inf\")\n",
    "    \n",
    "    # 距离计算\n",
    "    def caculate_Euclidean_distance(self,point1,point2):\n",
    "        if point1 is None or point2 is None:\n",
    "            return None\n",
    "        if len(point1)!= len(point2):\n",
    "            return None\n",
    "        sum = 0\n",
    "        for i in range(len(point1)):\n",
    "            sum += (point1[i]-point2[i])**2\n",
    "        return math.sqrt(sum)\n",
    "    def caculate_Manhattan_distance(self,point1,point2):\n",
    "        if point1 is None or point2 is None:\n",
    "            return None\n",
    "        if len(point1)!= len(point2):\n",
    "            return None\n",
    "        sum = 0\n",
    "        for i in range(len(point1)):\n",
    "            sum += math.fabs(point1[i]-point2[i])\n",
    "        return sum\n",
    "    \n",
    "    # 返回距离输入点最近的区域节点，和他们之间的距离\n",
    "    def find_pre_nearest_point(self,root):\n",
    "            \n",
    "            new_point=self.new_point\n",
    "            if root is None:\n",
    "                return None\n",
    "            if root.left is None and root.right is None:\n",
    "                return root,self.caculate_Euclidean_distance(root.dom_elt,new_point)\n",
    "            split=root.split\n",
    "            if new_point[split] <= root.dom_elt[split] and root.left is not None:\n",
    "                return self.find_pre_nearest_point(root.left)\n",
    "            if new_point[split] > root.dom_elt[split] and root.right is not None:\n",
    "                return self.find_pre_nearest_point(root.right)\n",
    "            else:\n",
    "                 return root,self.caculate_Euclidean_distance(root.dom_elt,new_point)\n",
    "\n",
    "    # 搜索\n",
    "    def search(self, now_node, nearest_node, nearest_distance):\n",
    "        \"\"\"\n",
    "        在 KD 树中搜索最近邻节点\n",
    "\n",
    "        参数:\n",
    "            now_node: 当前节点\n",
    "            nearest_node: 当前最近邻节点\n",
    "            nearest_distance: 当前最近邻距离\n",
    "\n",
    "        返回:\n",
    "            最近邻节点和最近邻距离\n",
    "        \"\"\"\n",
    "        new_point = self.new_point\n",
    "        # 当前节点为空或者已经是根节点，返回\n",
    "        if now_node is None or now_node.parent is None:\n",
    "            return None\n",
    "        distance = self.caculate_Euclidean_distance(now_node.dom_elt, new_point)\n",
    "        if distance < nearest_distance:\n",
    "            nearest_distance = distance\n",
    "            nearest_node = now_node\n",
    "            if now_node.left is not None:\n",
    "                left_nearest_node, left_nearest_distance = self.search(now_node.left, nearest_node, nearest_distance)\n",
    "                if left_nearest_distance < nearest_distance:\n",
    "                    nearest_distance = left_nearest_distance\n",
    "                    nearest_node = left_nearest_node\n",
    "            if now_node.right is not None:\n",
    "                right_nearest_node, right_nearest_distance = self.search(now_node.right, nearest_node, nearest_distance)\n",
    "                if right_nearest_distance < nearest_distance:\n",
    "                    nearest_distance = right_nearest_distance\n",
    "                    nearest_node = right_nearest_node\n",
    "            else:\n",
    "                return self.search(now_node.parent, nearest_node, nearest_distance)\n",
    "        self.nearest_distance = nearest_distance\n",
    "        self.nearest_point = nearest_node\n",
    "        return nearest_node, nearest_distance"
   ]
  },
  {
   "cell_type": "code",
   "execution_count": 37,
   "metadata": {},
   "outputs": [
    {
     "name": "stdout",
     "output_type": "stream",
     "text": [
      "[8, 8, 8]\n",
      "9.17877987534291\n"
     ]
    }
   ],
   "source": [
    "new_point = [6.5, -1,9]\n",
    "\n",
    "searcher=Searcher(new_point,kd)\n",
    "a,b=searcher.find_pre_nearest_point(kd.root)\n",
    "print(a.dom_elt)\n",
    "print(b)"
   ]
  },
  {
   "cell_type": "code",
   "execution_count": 42,
   "metadata": {},
   "outputs": [
    {
     "name": "stdout",
     "output_type": "stream",
     "text": [
      "[4, 4, 4]\n",
      "3.1622776601683795\n"
     ]
    }
   ],
   "source": [
    "new_point = [3,7,4]\n",
    "\n",
    "searcher=Searcher(new_point,kd)\n",
    "a,b=searcher.find_pre_nearest_point(kd.root)\n",
    "nearest_point,nearest_distance =searcher.search(a.parent,a,b)\n",
    "print(a.dom_elt)\n",
    "print(b)"
   ]
  },
  {
   "cell_type": "code",
   "execution_count": 43,
   "metadata": {},
   "outputs": [
    {
     "name": "stdout",
     "output_type": "stream",
     "text": [
      "[5, 5, 5] 3.0\n",
      "[5, 5, 5]\n",
      "3.0\n"
     ]
    }
   ],
   "source": [
    "\n",
    "print(nearest_point.dom_elt,nearest_distance)\n",
    "print(searcher.nearest_point.dom_elt)\n",
    "print(searcher.nearest_distance)"
   ]
  }
 ],
 "metadata": {
  "kernelspec": {
   "display_name": "TF",
   "language": "python",
   "name": "python3"
  },
  "language_info": {
   "codemirror_mode": {
    "name": "ipython",
    "version": 3
   },
   "file_extension": ".py",
   "mimetype": "text/x-python",
   "name": "python",
   "nbconvert_exporter": "python",
   "pygments_lexer": "ipython3",
   "version": "3.7.1"
  }
 },
 "nbformat": 4,
 "nbformat_minor": 2
}
